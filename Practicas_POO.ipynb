{
  "nbformat": 4,
  "nbformat_minor": 0,
  "metadata": {
    "colab": {
      "name": "Practicas_POO.ipynb",
      "provenance": [],
      "authorship_tag": "ABX9TyMOw5kI0EuWQyNv+zZBlnbf",
      "include_colab_link": true
    },
    "kernelspec": {
      "name": "python3",
      "display_name": "Python 3"
    },
    "language_info": {
      "name": "python"
    }
  },
  "cells": [
    {
      "cell_type": "markdown",
      "metadata": {
        "id": "view-in-github",
        "colab_type": "text"
      },
      "source": [
        "<a href=\"https://colab.research.google.com/github/Danito3d/POO/blob/main/Practicas_POO.ipynb\" target=\"_parent\"><img src=\"https://colab.research.google.com/assets/colab-badge.svg\" alt=\"Open In Colab\"/></a>"
      ]
    },
    {
      "cell_type": "markdown",
      "metadata": {
        "id": "mx26LcmfcU98"
      },
      "source": [
        "## **Practicas de programacion orientada a objetos en Python**"
      ]
    },
    {
      "cell_type": "code",
      "metadata": {
        "id": "aA-rstjAxjm7"
      },
      "source": [
        "import math as mt"
      ],
      "execution_count": 30,
      "outputs": []
    },
    {
      "cell_type": "code",
      "metadata": {
        "id": "jtPNLCb4ckFu"
      },
      "source": [
        "#El proposito de este fichero es el de practicar programacion orientada a objetos con Python"
      ],
      "execution_count": null,
      "outputs": []
    },
    {
      "cell_type": "markdown",
      "metadata": {
        "id": "S1SPQ6Y7eX0l"
      },
      "source": [
        "#### **Realizacion de clases Leccion 1**"
      ]
    },
    {
      "cell_type": "code",
      "metadata": {
        "id": "93eKN1nneau5"
      },
      "source": [
        "class Ropa:\n",
        "  tipo_de_manga = ''\n",
        "  numero_boton = 1\n",
        "  color = ''"
      ],
      "execution_count": null,
      "outputs": []
    },
    {
      "cell_type": "code",
      "metadata": {
        "id": "ojJflKyyfc2R"
      },
      "source": [
        "camisa = Ropa()"
      ],
      "execution_count": null,
      "outputs": []
    },
    {
      "cell_type": "code",
      "metadata": {
        "id": "WG6o1oj8ff5k"
      },
      "source": [
        "class jugadores:\n",
        "  j1 = 'Messi'\n",
        "  j2 = 'Ronaldo'"
      ],
      "execution_count": null,
      "outputs": []
    },
    {
      "cell_type": "code",
      "metadata": {
        "colab": {
          "base_uri": "https://localhost:8080/"
        },
        "id": "qm3fxdZH09c-",
        "outputId": "7367137c-81d5-42c6-a73c-fbfc5913de9f"
      },
      "source": [
        "print(jugadores.j2)"
      ],
      "execution_count": null,
      "outputs": [
        {
          "output_type": "stream",
          "text": [
            "Ronaldo\n"
          ],
          "name": "stdout"
        }
      ]
    },
    {
      "cell_type": "code",
      "metadata": {
        "id": "wYbLjbca1Ajq"
      },
      "source": [
        "class jugadores_B:\n",
        "  j3 = 'Marcelo'\n",
        "  j1 = 'Falcao'"
      ],
      "execution_count": null,
      "outputs": []
    },
    {
      "cell_type": "code",
      "metadata": {
        "colab": {
          "base_uri": "https://localhost:8080/"
        },
        "id": "-hTcA-r81Py-",
        "outputId": "bc3d7462-7e91-440f-9484-5eebaa1abfb2"
      },
      "source": [
        "print(jugadores_B.j1)"
      ],
      "execution_count": null,
      "outputs": [
        {
          "output_type": "stream",
          "text": [
            "Falcao\n"
          ],
          "name": "stdout"
        }
      ]
    },
    {
      "cell_type": "code",
      "metadata": {
        "id": "CBVRD2U21SnG"
      },
      "source": [
        "class Nombre: #Creacion de clase con pass de objetos a crear para asignar atributos\n",
        "  pass\n",
        "\n",
        "victor = Nombre()\n",
        "maria = Nombre()\n",
        "\n",
        "#objeto.atributo = valor\n",
        "\n",
        "victor.edad = 30\n",
        "victor.altura = 1.80\n",
        "victor.peso = 80\n",
        "victor.sexo = 'Masculino'\n",
        "victor.nacion = 'Venezuela'\n",
        "\n",
        "maria.edad = 25\n",
        "maria.altura = 1.60\n",
        "maria.peso = 50\n",
        "maria.sexo = 'Femenino'\n",
        "maria.nacion = 'Colombia'"
      ],
      "execution_count": null,
      "outputs": []
    },
    {
      "cell_type": "code",
      "metadata": {
        "colab": {
          "base_uri": "https://localhost:8080/"
        },
        "id": "vXsR2QWq3smi",
        "outputId": "0bfa904d-85b5-4b77-fca8-6b72d9640abb"
      },
      "source": [
        "print(victor.altura, maria.altura)"
      ],
      "execution_count": null,
      "outputs": [
        {
          "output_type": "stream",
          "text": [
            "1.8 1.6\n"
          ],
          "name": "stdout"
        }
      ]
    },
    {
      "cell_type": "markdown",
      "metadata": {
        "id": "LZVJ4FCU4fgw"
      },
      "source": [
        "#### **Realizacion de Metodos Leccion 2**"
      ]
    },
    {
      "cell_type": "code",
      "metadata": {
        "id": "cc7qZ6E838j9"
      },
      "source": [
        "#El metodo es una funcion que esta incluida dentro de una clase en especifico"
      ],
      "execution_count": null,
      "outputs": []
    },
    {
      "cell_type": "code",
      "metadata": {
        "id": "gPuLzLOH4xtq"
      },
      "source": [
        "class Matematica: #Definicion de objeto Matematica\n",
        "  def suma(self): #Definicion de metodo que no es mas que una funcion/accion/compor\n",
        "    self.n1 = 2\n",
        "    self.n2 = 2"
      ],
      "execution_count": null,
      "outputs": []
    },
    {
      "cell_type": "code",
      "metadata": {
        "id": "CsrTKdVm5-Ji"
      },
      "source": [
        "s = Matematica()"
      ],
      "execution_count": null,
      "outputs": []
    },
    {
      "cell_type": "code",
      "metadata": {
        "id": "hLEfOM5z6Jfn"
      },
      "source": [
        "s.suma()"
      ],
      "execution_count": null,
      "outputs": []
    },
    {
      "cell_type": "code",
      "metadata": {
        "colab": {
          "base_uri": "https://localhost:8080/"
        },
        "id": "1CEyjti96XAm",
        "outputId": "a28f5ced-8233-4504-decf-e3fa098237c1"
      },
      "source": [
        "print(s.n1 + s.n2) #finalizacion de via clasica"
      ],
      "execution_count": null,
      "outputs": [
        {
          "output_type": "stream",
          "text": [
            "4\n"
          ],
          "name": "stdout"
        }
      ]
    },
    {
      "cell_type": "code",
      "metadata": {
        "id": "0BHZLTod6gxh"
      },
      "source": [
        "class Guardaropa:\n",
        "  def __init__(self): #Definicion de metodo autoinicializado\n",
        "    self.marca = 'Wrangler'\n",
        "    self.talla = 32\n",
        "    self.color = 'Rojo'"
      ],
      "execution_count": null,
      "outputs": []
    },
    {
      "cell_type": "code",
      "metadata": {
        "id": "QTLbGWUB7cfq"
      },
      "source": [
        "pantalon = Guardaropa()"
      ],
      "execution_count": null,
      "outputs": []
    },
    {
      "cell_type": "code",
      "metadata": {
        "colab": {
          "base_uri": "https://localhost:8080/"
        },
        "id": "gr83BEF77llA",
        "outputId": "50f7fbf1-fa6c-4113-87cd-c2133620e0c0"
      },
      "source": [
        "print(pantalon.marca)"
      ],
      "execution_count": null,
      "outputs": [
        {
          "output_type": "stream",
          "text": [
            "Wrangler\n"
          ],
          "name": "stdout"
        }
      ]
    },
    {
      "cell_type": "code",
      "metadata": {
        "colab": {
          "base_uri": "https://localhost:8080/"
        },
        "id": "2HH178VX7n2x",
        "outputId": "ad84c3c8-362e-42b4-b89a-8e6c44a84a91"
      },
      "source": [
        "#Creacion de calculadora simple con operacion de dos variables\n",
        "class Calculadora:\n",
        "  def __init__(self, n1, n2):\n",
        "    self.suma = n1 + n2\n",
        "    self.resta = n1 + n2\n",
        "    self.multiplicacion = n1 * n2\n",
        "    self.division = n1/n2\n",
        "\n",
        "operacion = Calculadora(2, 2)\n",
        "print(operacion.multiplicacion)"
      ],
      "execution_count": null,
      "outputs": [
        {
          "output_type": "stream",
          "text": [
            "4\n"
          ],
          "name": "stdout"
        }
      ]
    },
    {
      "cell_type": "markdown",
      "metadata": {
        "id": "xSdqt26n9URJ"
      },
      "source": [
        "#### **Funciones para atributos Leccion 3**"
      ]
    },
    {
      "cell_type": "code",
      "metadata": {
        "colab": {
          "base_uri": "https://localhost:8080/"
        },
        "id": "q5HCI1_98C8O",
        "outputId": "bedd61ae-0a34-4fd3-de61-78e903574ea3"
      },
      "source": [
        "class Persona:\n",
        "  edad = 27\n",
        "  nombre = 'daniel'\n",
        "  pais = 'brasil'\n",
        "\n",
        "doctor = Persona() #forma clasica de dos partes para obtener valor de atributo\n",
        "print(doctor.nombre)"
      ],
      "execution_count": null,
      "outputs": [
        {
          "output_type": "stream",
          "text": [
            "daniel\n"
          ],
          "name": "stdout"
        }
      ]
    },
    {
      "cell_type": "code",
      "metadata": {
        "colab": {
          "base_uri": "https://localhost:8080/"
        },
        "id": "JV2b9faH9x8Z",
        "outputId": "b46a1ea3-6f87-4984-d66e-3c9926496abd"
      },
      "source": [
        "print('El nombre es ', getattr(doctor, 'nombre'))#funciones para llamado de atributos"
      ],
      "execution_count": null,
      "outputs": [
        {
          "output_type": "stream",
          "text": [
            "El nombre es  daniel\n"
          ],
          "name": "stdout"
        }
      ]
    },
    {
      "cell_type": "code",
      "metadata": {
        "colab": {
          "base_uri": "https://localhost:8080/"
        },
        "id": "ddmInjXo-Gow",
        "outputId": "0821fba7-f6f5-4e59-bd39-5de0fdd48fd8"
      },
      "source": [
        "print('Tiene nombre?', hasattr(doctor, 'nombre')) #funcion booleana para determinar contenido"
      ],
      "execution_count": null,
      "outputs": [
        {
          "output_type": "stream",
          "text": [
            "Tiene nombre? True\n"
          ],
          "name": "stdout"
        }
      ]
    },
    {
      "cell_type": "code",
      "metadata": {
        "colab": {
          "base_uri": "https://localhost:8080/"
        },
        "id": "3_B79pgZ-oOC",
        "outputId": "2ffdc726-6b18-44b1-9216-17bbaeceb82a"
      },
      "source": [
        "setattr(doctor, 'nombre', 'alberto') #funcion de cambio de atributos\n",
        "print(doctor.nombre)"
      ],
      "execution_count": null,
      "outputs": [
        {
          "output_type": "stream",
          "text": [
            "alberto\n"
          ],
          "name": "stdout"
        }
      ]
    },
    {
      "cell_type": "code",
      "metadata": {
        "id": "o3_RbKBD_HoZ"
      },
      "source": [
        "delattr(Persona, 'pais')#funcion de borrado en atributo"
      ],
      "execution_count": null,
      "outputs": []
    },
    {
      "cell_type": "code",
      "metadata": {
        "id": "0fGHEyXU_oFa"
      },
      "source": [
        "print(doctor.pais|)"
      ],
      "execution_count": null,
      "outputs": []
    },
    {
      "cell_type": "markdown",
      "metadata": {
        "id": "J7bnOiZ4AUQ-"
      },
      "source": [
        "#### **Realizacion de constructores Leccion 4**"
      ]
    },
    {
      "cell_type": "code",
      "metadata": {
        "colab": {
          "base_uri": "https://localhost:8080/"
        },
        "id": "Qh14WILH_1Zs",
        "outputId": "7c00c398-54a9-4a5e-9a09-d2139f867a4f"
      },
      "source": [
        "class Persona:#Creacion de objeto con atributos pasados\n",
        "  pass #marca de pasar atributos luego\n",
        "  def __init__(self, nombre, altura):#definicion de constructor\n",
        "    self.nombre = nombre\n",
        "    self.altura = altura\n",
        "\n",
        "  def descripcion(self):#definicion de metodo\n",
        "    return '{} tiene esta {} altura'.format(self.nombre, self.altura)\n",
        "\n",
        "  def comentario(self, frase):#definicion de metodo\n",
        "    return '{} dice: {}'.format(self.nombre, frase)\n",
        "\n",
        "doctor = Persona('david', 1.80)\n",
        "print(doctor.nombre)"
      ],
      "execution_count": null,
      "outputs": [
        {
          "output_type": "stream",
          "text": [
            "david\n"
          ],
          "name": "stdout"
        }
      ]
    },
    {
      "cell_type": "code",
      "metadata": {
        "colab": {
          "base_uri": "https://localhost:8080/"
        },
        "id": "Hp00cpwxCkSG",
        "outputId": "527ce8ea-1039-4a76-c24d-e8d3673f99e6"
      },
      "source": [
        "print(doctor.descripcion())"
      ],
      "execution_count": null,
      "outputs": [
        {
          "output_type": "stream",
          "text": [
            "david tiene esta 1.8 altura\n"
          ],
          "name": "stdout"
        }
      ]
    },
    {
      "cell_type": "code",
      "metadata": {
        "colab": {
          "base_uri": "https://localhost:8080/"
        },
        "id": "6qgx2oslC1D-",
        "outputId": "fb39fec2-acf9-4540-ff94-4f5c1a664098"
      },
      "source": [
        "print(doctor.comentario(frase = 'Cara e verga'))"
      ],
      "execution_count": null,
      "outputs": [
        {
          "output_type": "stream",
          "text": [
            "david dice: Cara e verga\n"
          ],
          "name": "stdout"
        }
      ]
    },
    {
      "cell_type": "code",
      "metadata": {
        "colab": {
          "base_uri": "https://localhost:8080/"
        },
        "id": "fxWyuzPSC8VL",
        "outputId": "b36ae62a-9e6e-4bab-8d09-58343ca9b1dc"
      },
      "source": [
        "class Email:\n",
        "  pass\n",
        "  def __init__(self):\n",
        "    self.enviado = False\n",
        "  \n",
        "  def enviar_correo(self):\n",
        "    self.enviado = True\n",
        "  \n",
        "mi_correo = Email()\n",
        "print(mi_correo.enviado)"
      ],
      "execution_count": null,
      "outputs": [
        {
          "output_type": "stream",
          "text": [
            "False\n"
          ],
          "name": "stdout"
        }
      ]
    },
    {
      "cell_type": "code",
      "metadata": {
        "colab": {
          "base_uri": "https://localhost:8080/"
        },
        "id": "sQTZn6sNDxrY",
        "outputId": "c589d8cf-72c7-4b2c-f6e3-234c0fb69023"
      },
      "source": [
        "print(mi_correo.enviar_correo)"
      ],
      "execution_count": null,
      "outputs": [
        {
          "output_type": "stream",
          "text": [
            "<bound method Email.enviar_correo of <__main__.Email object at 0x7f315c063f10>>\n"
          ],
          "name": "stdout"
        }
      ]
    },
    {
      "cell_type": "markdown",
      "metadata": {
        "id": "mQfYoPljFXjX"
      },
      "source": [
        "#### **Herencia en POO Leccion 5**"
      ]
    },
    {
      "cell_type": "code",
      "metadata": {
        "id": "4yOR6qqOD6xX"
      },
      "source": [
        "class pokemon: #Creacion de clase 'Padre' un pass porque sera un obj. vacio\n",
        "  pass\n",
        "  def __init__(self, nombre, tipo): #definicion de constructor\n",
        "    self.nombre = nombre\n",
        "    self.tipo = tipo\n",
        "  \n",
        "  def descripcion(self): #Primer metodo\n",
        "    return '{} es un pokemon de tipo: {}'.format(self.nombre, self.tipo)\n",
        "\n",
        "class pikachu (pokemon): #Primera clase heredada\n",
        "  def attk(self, ataque): #Metodo de primera clase\n",
        "    return '{} tiene este tipo de ataque: {}'.format(self.nombre, ataque)\n",
        "\n",
        "class charmander (pokemon): #Segunda clase heredada\n",
        "  def color(self, color): #Metodo de segunda clase\n",
        "    return '{} tiene color: {}'.format(self.nombre, color)"
      ],
      "execution_count": 18,
      "outputs": []
    },
    {
      "cell_type": "code",
      "metadata": {
        "id": "Bs6QJ_zoq-ET"
      },
      "source": [
        "n_pokemon = pikachu('Bobby', 'trueno')"
      ],
      "execution_count": 3,
      "outputs": []
    },
    {
      "cell_type": "code",
      "metadata": {
        "colab": {
          "base_uri": "https://localhost:8080/"
        },
        "id": "tuChcSWxrMym",
        "outputId": "5a9af25d-9947-484f-bf86-7c3f1da1fb25"
      },
      "source": [
        "print(n_pokemon.descripcion())"
      ],
      "execution_count": 5,
      "outputs": [
        {
          "output_type": "stream",
          "text": [
            "Bobby es un pokemon de tipo: trueno\n"
          ],
          "name": "stdout"
        }
      ]
    },
    {
      "cell_type": "code",
      "metadata": {
        "colab": {
          "base_uri": "https://localhost:8080/"
        },
        "id": "diwlm_ATrQF-",
        "outputId": "5ef734d0-400b-4ba7-fcb8-c9509af1ef31"
      },
      "source": [
        "print(n_pokemon.attk('Impac trueno'))"
      ],
      "execution_count": 6,
      "outputs": [
        {
          "output_type": "stream",
          "text": [
            "Bobby tiene este tipo de ataque: Impac trueno\n"
          ],
          "name": "stdout"
        }
      ]
    },
    {
      "cell_type": "code",
      "metadata": {
        "id": "6gcW1E81rs7Y"
      },
      "source": [
        "n1_pokemon = charmander('Felix', 'Fuego')"
      ],
      "execution_count": 20,
      "outputs": []
    },
    {
      "cell_type": "code",
      "metadata": {
        "colab": {
          "base_uri": "https://localhost:8080/"
        },
        "id": "r0eMnF8Jr9Vz",
        "outputId": "5049397d-f7ce-4c1e-85e0-9d2799dba163"
      },
      "source": [
        "print(n1_pokemon.descripcion())"
      ],
      "execution_count": 14,
      "outputs": [
        {
          "output_type": "stream",
          "text": [
            "Felix es un pokemon de tipo: Fuego\n"
          ],
          "name": "stdout"
        }
      ]
    },
    {
      "cell_type": "code",
      "metadata": {
        "colab": {
          "base_uri": "https://localhost:8080/"
        },
        "id": "Bw3rSHaqsBiS",
        "outputId": "487d5db9-5135-4f85-ab6c-13df2b59c627"
      },
      "source": [
        "print(n1_pokemon.color('Naranja'))"
      ],
      "execution_count": 21,
      "outputs": [
        {
          "output_type": "stream",
          "text": [
            "Felix tiene color: Naranja\n"
          ],
          "name": "stdout"
        }
      ]
    },
    {
      "cell_type": "markdown",
      "metadata": {
        "id": "Kv9iHsSwtIZA"
      },
      "source": [
        "#### **Herencia en POO-2 Leccion 6**"
      ]
    },
    {
      "cell_type": "code",
      "metadata": {
        "id": "qNZOAedysHkc"
      },
      "source": [
        "class Calculadora: #Definicion de clase padre con un pass\n",
        "  pass\n",
        "  def __init__(self, numero): #Definicion de constructor\n",
        "    self.n = numero\n",
        "    self.datos = [0 for i in range(numero)] #Scan completo de datos\n",
        "  \n",
        "  def ingresardato(self):\n",
        "    self.datos = [int(input('Ingresar datos ' + str(i+1) + '= ')) for i in range(self.n)]\n",
        "    #Escritura de datos por usuario comenzando en 1\n",
        "\n",
        "class op_basica(Calculadora): #Clase heredada en operaciones basicas\n",
        "  def __init__(self): #Constructor\n",
        "    Calculadora.__init__(self, 2) #Definicion de valores y cantidad de valores\n",
        "\n",
        "  def suma(self): #Metodo de suma\n",
        "    a,b = self.datos\n",
        "    s = a + b\n",
        "    print('El resultado es:', s)\n",
        "  \n",
        "  def resta(self): #Metodo de resta\n",
        "    a,b = self.datos\n",
        "    r = a - b\n",
        "    print('El resultado es:', r)\n",
        "\n",
        "class raiz(Calculadora): #Clase heredada en raices\n",
        "  def __init__(self):\n",
        "    Calculadora.__init__(self, 1)\n",
        "\n",
        "  def raiz_cua(self): #Metodo de raiz cuadrada\n",
        "    a, = self.datos\n",
        "    print('El resultado es:', mt.sqrt(a)) #Se a;ade la libreria 'Math'"
      ],
      "execution_count": 59,
      "outputs": []
    },
    {
      "cell_type": "code",
      "metadata": {
        "id": "xMiRjoP8wmSS"
      },
      "source": [
        "n_ejemplo = op_basica()"
      ],
      "execution_count": 39,
      "outputs": []
    },
    {
      "cell_type": "code",
      "metadata": {
        "colab": {
          "base_uri": "https://localhost:8080/"
        },
        "id": "eoKRz0HNwruC",
        "outputId": "bab6457d-5227-4e30-e9c7-1ade96ef8f75"
      },
      "source": [
        "print(n_ejemplo.ingresardato())\n",
        "print(n_ejemplo.suma())"
      ],
      "execution_count": 42,
      "outputs": [
        {
          "output_type": "stream",
          "text": [
            "Ingresar datos 1= 3\n",
            "Ingresar datos 2= 3\n",
            "None\n",
            "El resultado es: 6\n",
            "None\n"
          ],
          "name": "stdout"
        }
      ]
    },
    {
      "cell_type": "code",
      "metadata": {
        "id": "3Wv9vA-Yw6SJ"
      },
      "source": [
        "n_ejemplo = raiz()"
      ],
      "execution_count": 57,
      "outputs": []
    },
    {
      "cell_type": "code",
      "metadata": {
        "colab": {
          "base_uri": "https://localhost:8080/"
        },
        "id": "vTVd5xJnxM-Z",
        "outputId": "df90d61e-ef02-45cf-de26-b81c432763b1"
      },
      "source": [
        "print(n_ejemplo.ingresardato())\n",
        "print(n_ejemplo.raiz_cua())"
      ],
      "execution_count": 58,
      "outputs": [
        {
          "output_type": "stream",
          "text": [
            "Ingresar datos 1= 9\n",
            "None\n",
            "El resultado es: 3.0\n",
            "None\n"
          ],
          "name": "stdout"
        }
      ]
    },
    {
      "cell_type": "markdown",
      "metadata": {
        "id": "-fjo9fmTzbR_"
      },
      "source": [
        "#### **Funciones de prueba en herencias Leccion 7**"
      ]
    },
    {
      "cell_type": "code",
      "metadata": {
        "id": "4zGPk77yyGkb"
      },
      "source": [
        ""
      ],
      "execution_count": null,
      "outputs": []
    }
  ]
}