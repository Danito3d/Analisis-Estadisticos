{
  "nbformat": 4,
  "nbformat_minor": 0,
  "metadata": {
    "colab": {
      "name": "CodigoGeodesica.ipynb",
      "provenance": [],
      "authorship_tag": "ABX9TyP2wxn8ypR8O8ROFUinXSMG",
      "include_colab_link": true
    },
    "kernelspec": {
      "name": "python3",
      "display_name": "Python 3"
    }
  },
  "cells": [
    {
      "cell_type": "markdown",
      "metadata": {
        "id": "view-in-github",
        "colab_type": "text"
      },
      "source": [
        "<a href=\"https://colab.research.google.com/github/Danito3d/Analisis-Estadisticos/blob/main/CodigoGeodesica.ipynb\" target=\"_parent\"><img src=\"https://colab.research.google.com/assets/colab-badge.svg\" alt=\"Open In Colab\"/></a>"
      ]
    },
    {
      "cell_type": "code",
      "metadata": {
        "id": "KU3z2Ii1tMLB"
      },
      "source": [
        "import numpy as np #Importe de librerias usadas\n",
        "import pandas as pd\n",
        "from sklearn.cluster import KMeans\n",
        "from scipy.spatial import KDTree\n",
        "from sklearn.neighbors import KNeighborsClassifier\n",
        "import scipy.spatial"
      ],
      "execution_count": null,
      "outputs": []
    },
    {
      "cell_type": "code",
      "metadata": {
        "id": "51s6xFYctVWI"
      },
      "source": [
        "df = pd.read_csv('Libro1.csv', sep=',') #Carga de archivo CSV, tambien pudiendo ser un xls\n",
        "#e_rad = 6371 #Constante de radio aproximado de la tierra"
      ],
      "execution_count": null,
      "outputs": []
    },
    {
      "cell_type": "code",
      "metadata": {
        "id": "L9yKAuq8kVV4",
        "colab": {
          "base_uri": "https://localhost:8080/"
        },
        "outputId": "af70172d-8eee-4518-b7d8-0784aab6e756"
      },
      "source": [
        "df.shape"
      ],
      "execution_count": null,
      "outputs": [
        {
          "output_type": "execute_result",
          "data": {
            "text/plain": [
              "(188, 3)"
            ]
          },
          "metadata": {
            "tags": []
          },
          "execution_count": 10
        }
      ]
    },
    {
      "cell_type": "code",
      "metadata": {
        "id": "c_1t50NTsRP-",
        "colab": {
          "base_uri": "https://localhost:8080/"
        },
        "outputId": "2880de6d-ed06-4825-cf01-8151a84a15e8"
      },
      "source": [
        "df.columns"
      ],
      "execution_count": null,
      "outputs": [
        {
          "output_type": "execute_result",
          "data": {
            "text/plain": [
              "Index(['Suministro', 'Coordenada X', 'Coordenada Y'], dtype='object')"
            ]
          },
          "metadata": {
            "tags": []
          },
          "execution_count": 11
        }
      ]
    },
    {
      "cell_type": "code",
      "metadata": {
        "id": "litS7e7ftnXl"
      },
      "source": [
        "xnp = np.array(df['Coordenada Y']) #\n",
        "ynp = np.array(df['Coordenada X']) #Transformacion de lista a arreglo tipo numpy\n",
        "\n",
        "bloque = [] #Inicializacion de array por bloques a modo de puntos, siendo P un punto con 2 coordenadas (X,Y)\n",
        "\n",
        "for i in range(0,len(xnp)): #Definicion de bucle for para anexo de valores\n",
        "\n",
        "  blo = np.block([xnp[i],ynp[i]]) #Secuencia de conversion a bloques numpy\n",
        "\n",
        "  bloque.append(blo) #Anexo a vector bloque\n",
        "\n",
        "  bl = np.array(bloque) #Transformacion a array de multiples bloques\n",
        "  \n",
        "print(bl)"
      ],
      "execution_count": null,
      "outputs": []
    },
    {
      "cell_type": "code",
      "metadata": {
        "id": "2zFi4ON_vueB",
        "colab": {
          "base_uri": "https://localhost:8080/"
        },
        "outputId": "a6f33442-fbf4-4d96-bb54-0518206b5898"
      },
      "source": [
        "kmeans = KMeans(n_clusters=4, #Definicion de algoritmo de sklearn, con numero de centroides, funcion de maximizacion, iteraciones y estado aleatorio\n",
        "                init = 'k-means++',\n",
        "                max_iter = 800,\n",
        "                random_state=0).fit(bl)\n",
        "\n",
        "kmeans.labels_\n",
        "\n",
        "Llegada = kmeans.cluster_centers_ #Centroides\n",
        "Llegada\n"
      ],
      "execution_count": null,
      "outputs": [
        {
          "output_type": "execute_result",
          "data": {
            "text/plain": [
              "array([[ -4.89658268, -80.31455808],\n",
              "       [ -4.77999598, -80.59345992],\n",
              "       [ -4.58303639, -79.97207028],\n",
              "       [ -4.41633396, -80.44390609]])"
            ]
          },
          "metadata": {
            "tags": []
          },
          "execution_count": 13
        }
      ]
    },
    {
      "cell_type": "markdown",
      "metadata": {
        "id": "P6eMo97wtbuv"
      },
      "source": [
        "# **Entrenamiento de puntos cercanos**"
      ]
    },
    {
      "cell_type": "code",
      "metadata": {
        "id": "uwt7pIN1tmIf",
        "colab": {
          "base_uri": "https://localhost:8080/"
        },
        "outputId": "8b3397f7-0313-4af8-b869-49dfb3eb22dc"
      },
      "source": [
        "NDIM = 2\n",
        "\n",
        "point =  Llegada[0] #Definicion de primer centroide\n",
        "\n",
        "#Estructura general de encuentro\n",
        "tree = KDTree(data = bl,                     #Definicion del arbol con scipy y tama#o de ramas del arbol a la forma de vector en posicion 0 + 1\n",
        "              leafsize=bl.shape[0]+1) \n",
        "\n",
        "distances, ndx = tree.query([point], #Comando de consulta para conocer los puntos mas cercanos, asi como definicion de cantidad en vecinos cercanos\n",
        "                            k=48)\n",
        "\n",
        "#print(bl[ndx])\n",
        "Salida = bl[ndx]\n",
        "Salida"
      ],
      "execution_count": null,
      "outputs": [
        {
          "output_type": "execute_result",
          "data": {
            "text/plain": [
              "array([[[ -4.92809431, -80.33726036],\n",
              "        [ -4.92515838, -80.34104907],\n",
              "        [ -4.92825892, -80.33824429],\n",
              "        [ -4.92374467, -80.3449284 ],\n",
              "        [ -4.92747968, -80.34146379],\n",
              "        [ -4.926795  , -80.343305  ],\n",
              "        [ -4.93116672, -80.34129903],\n",
              "        [ -4.932371  , -80.340305  ],\n",
              "        [ -4.92806362, -80.34752502],\n",
              "        [ -4.93037021, -80.34518037],\n",
              "        [ -4.93381857, -80.34110378],\n",
              "        [ -4.93322248, -80.34237583],\n",
              "        [ -4.93385   , -80.341912  ],\n",
              "        [ -4.933178  , -80.34294   ],\n",
              "        [ -4.92807572, -80.34968931],\n",
              "        [ -4.93259925, -80.34517626],\n",
              "        [ -4.93416702, -80.34416846],\n",
              "        [ -4.9341257 , -80.34425444],\n",
              "        [ -4.88611806, -80.38254321],\n",
              "        [ -4.84018809, -80.26966298],\n",
              "        [ -4.83798764, -80.27139208],\n",
              "        [ -4.84618892, -80.26128206],\n",
              "        [ -4.84559574, -80.26118109],\n",
              "        [ -4.84074239, -80.26549308],\n",
              "        [ -4.83840005, -80.26655077],\n",
              "        [ -4.83900493, -80.26508321],\n",
              "        [ -4.83425332, -80.26531495],\n",
              "        [ -4.88646637, -80.39481077],\n",
              "        [ -4.97731346, -80.32621531],\n",
              "        [ -4.88345991, -80.39627355],\n",
              "        [ -4.88605734, -80.39850735],\n",
              "        [ -4.98054638, -80.33717586],\n",
              "        [ -4.94124759, -80.38936763],\n",
              "        [ -4.94282273, -80.38846209],\n",
              "        [ -4.98331325, -80.32663266],\n",
              "        [ -4.98062987, -80.33949536],\n",
              "        [ -4.98157099, -80.3373853 ],\n",
              "        [ -4.98166776, -80.33807869],\n",
              "        [ -4.98194125, -80.33766564],\n",
              "        [ -4.99462249, -80.31782776],\n",
              "        [ -5.00142735, -80.30708584],\n",
              "        [ -5.00496019, -80.30372243],\n",
              "        [ -5.0054742 , -80.30325531],\n",
              "        [ -4.78906277, -80.28976461],\n",
              "        [ -4.79334962, -80.27542025],\n",
              "        [ -5.00929676, -80.29839548],\n",
              "        [ -5.0108929 , -80.30952262],\n",
              "        [ -5.01186394, -80.30102604]]])"
            ]
          },
          "metadata": {
            "tags": []
          },
          "execution_count": 14
        }
      ]
    }
  ]
}