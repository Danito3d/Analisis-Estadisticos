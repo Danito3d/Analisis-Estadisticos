{
  "nbformat": 4,
  "nbformat_minor": 0,
  "metadata": {
    "colab": {
      "name": "FUNNEL_UVM.ipynb",
      "provenance": [],
      "collapsed_sections": [],
      "toc_visible": true,
      "authorship_tag": "ABX9TyOjv4o63AslmjpTmJmxslTW",
      "include_colab_link": true
    },
    "kernelspec": {
      "name": "python3",
      "display_name": "Python 3"
    }
  },
  "cells": [
    {
      "cell_type": "markdown",
      "metadata": {
        "id": "view-in-github",
        "colab_type": "text"
      },
      "source": [
        "<a href=\"https://colab.research.google.com/github/Danito3d/Analisis-Estadisticos/blob/main/FUNNEL_UVM.ipynb\" target=\"_parent\"><img src=\"https://colab.research.google.com/assets/colab-badge.svg\" alt=\"Open In Colab\"/></a>"
      ]
    },
    {
      "cell_type": "markdown",
      "metadata": {
        "id": "o8WL1flI2xEl"
      },
      "source": [
        "## ***Creacion de analisis en segmentacion avanzada para encontrar observaciones y exportar, basado en teoria de grupo***"
      ]
    },
    {
      "cell_type": "code",
      "metadata": {
        "id": "oB64yH2TN9AV"
      },
      "source": [
        "#Importe de PANDAS para manipulacion de data\n",
        "import pandas as pd\n",
        "#Importe de NUMPY para manipulacion de arreglos y calculos vectoriales\n",
        "import numpy as np\n",
        "#Importe de DATETIME para manipulacion de etiquetas temporales\n",
        "from datetime import datetime\n",
        "import math"
      ],
      "execution_count": null,
      "outputs": []
    },
    {
      "cell_type": "markdown",
      "metadata": {
        "id": "0Jdptj9xRsIs"
      },
      "source": [
        "#### **Definicion de constantes**"
      ]
    },
    {
      "cell_type": "code",
      "metadata": {
        "id": "W2bnAFPsRwiI"
      },
      "source": [
        "#Condiciones de homologacion\n",
        "ABB = ['DM-925-92-ITINTEC', 'DM-925-92-ITINTEC']\n",
        "GANZ = ['DM-039-88-ITINTEC', 'DM-039-88 ITINTEC']\n",
        "SIEM = ['SNM/LE-009-99']\n",
        "SCHL = ['SNM/LE-006-95', 'SNM/LE-006-96','SNM/LE-005-95','SNM/LE-005-96',\n",
        "        'SNM/LE-002-97', 'SNM/LE-002-97']\n",
        "MISC = ['SNM/HLE-001-2013', 'SNM/HLE-002_2013', 'SNM/HLE-003_2013',\n",
        "       'SNM/HLE-004_2013', 'SNM/HLE-005_2013', 'SNM/HLE-006_2013',\n",
        "       'SNM/HLE-007_2013', 'SNM/HLE-008_2013', 'SNM/HLE-009_2013',\n",
        "       'SNM/HLE-010_2013', 'SNM/HLE-011_2013', 'SNM/HLE-012_2013',\n",
        "       'SNM/HLE-013_2013', 'SNM/HLE-014_2013', 'SNM/HLE-015_2013',\n",
        "       'SNM/HLE-001_2014', 'SNM/HLE-001_2014 Revision 1',\n",
        "       'SNM/HLE-001_2014 Revision 2', 'SNM/HLE-002_2014',\n",
        "       'SNM/HLE-002_2014 Revision 1', 'SNM/HLE-002_2014 Revision 2',\n",
        "       'SNM/HLE-003_2014', 'SNM/HLE-004_2014', 'SNM/HLE-001_2015',\n",
        "       'SNM/HLE-002_2015', 'SNM/HLE-002_2015 Revision 1',\n",
        "       'SNM/HLE-003_2015', 'SNM/HLE-004_2015', 'DM/HLE-005_2015',\n",
        "       'DM/HLE-005_2015 Suplemento DM/HLE-005_2015', 'DM/HLE-001_2016',\n",
        "       'DM/HLE-001_2016 Suplemento DM/HLE-001_2016', 'DM/HLE-002_2016',\n",
        "       'DM/HLE-003_2016', 'DM/HLE-004_2016', 'DM/HLE-005_2016',\n",
        "       'DM/HLE-006_2016', 'DM/HLE-006_2016 Suplemento DM/HLE-006_2016',\n",
        "       'DM/HLE-007_2016', 'DM/HLE-008_2016', 'DM/HLE-009_2016',\n",
        "       'DM/HLE-010_2016', 'DM/HLE-010_2016 Suplemento DM/HLE-010_2016',\n",
        "       'DM/HLE-011_2016', 'DM/HLE-011_2016 Suplemento DM/HLE-011_2016',\n",
        "       'DM/HLE-012_2016', 'DM/HLE-012_2016 Suplemento DM/HLE-012_2016',\n",
        "       'DM/HLE-013_2016', 'DM/HLE-013_2016 Suplemento DM/HLE-013_2016',\n",
        "       'DM/HLE-014_2016', 'DM/HLE-014_2016 Revision 1', 'DM/HLE-015_2016',\n",
        "       'DM/HLE-015_2016 Suplemento DM/HLE-015_2016', 'DM/HLE-016_2016',\n",
        "       'DM/HLE-016_2016 Suplemento DM/HLE-016_2016', 'DM/HLE-017_2016',\n",
        "       'DM/HLE-001-2017', 'DM/HLE-002-2017',\n",
        "       'DM/HLE-002-2017 Suplemento DM/HLE-002-2017', 'DM/HLE-003-2017',\n",
        "       'DM/HLE-004-2017', 'DM/HLE-005-2017', 'DM/HLE-006-2017',\n",
        "       'DM/HLE-007-2017', 'DM/HLE-008-2017', 'DM/HLE-009-2017',\n",
        "       'DM/HLE-010-2017', 'DM/HLE-011-2017', 'DM/HLE-012-2017',\n",
        "       'DM/HLE-013-2017', 'DM/HLE-014-2017', 'DM/HLE-015-2017',\n",
        "       'DM/HLE-016-2017', 'DM/HLE-001-2018', 'DM/HLE-002-2018',\n",
        "       'DM/HLE-003-2018', 'DM/HLE-004-2018', 'DM/HLE-005-2018',\n",
        "       'DM/HLE-006-2018', 'DM/HLE-007-2018', 'DM/HLE-008-2018',\n",
        "       'DM/HLE-009-2018', 'DM/HLE-010-2018', 'DM/HLE-011-2018',\n",
        "       'DM/HLE-012-2018', 'DM/HLE-013-2018']\n",
        "#Carga de referencias\n",
        "\n",
        "#Condiciones de duracion y consumo en Estaticos\n",
        "condeh1 = '00:21:00'\n",
        "condeh2 = '00:28:00'\n",
        "condel1 = 0.08\n",
        "condel2 = 0.2\n",
        "\n",
        "#Condiciones de duracion y consumo en Inductivos\n",
        "condih1 = '00:18:00'\n",
        "condih2 = '00:26:00'\n",
        "condil1 = 0.09\n",
        "condil2 = 0.7"
      ],
      "execution_count": null,
      "outputs": []
    },
    {
      "cell_type": "markdown",
      "metadata": {
        "id": "ZwfOFKKvObZf"
      },
      "source": [
        "## **Funnel de filtrado para UVM**"
      ]
    },
    {
      "cell_type": "markdown",
      "metadata": {
        "id": "SYjsRzUQVGCl"
      },
      "source": [
        "#### **El principio fundamental del presente funnel es facilitar el analisis de los datos y condiciones exigidas por el UVM**"
      ]
    },
    {
      "cell_type": "code",
      "metadata": {
        "id": "IcVl80prXMOP"
      },
      "source": [
        "#Carga de archivo bajo nombre de dfG\n",
        "doc='RAW_UVM.xls'\n",
        "dfG = pd.read_excel(doc)\n",
        "dfG"
      ],
      "execution_count": null,
      "outputs": []
    },
    {
      "cell_type": "code",
      "metadata": {
        "id": "iQrqGNJ6oF1W"
      },
      "source": [
        "dfG.head(5)"
      ],
      "execution_count": null,
      "outputs": []
    },
    {
      "cell_type": "code",
      "metadata": {
        "id": "dEyCd8TyQKJ7"
      },
      "source": [
        "#Segmentacion de Total - df\n",
        "df = dfG[['Hora_Inicio','Hora_Fin','Marca_nombre','Tipo','Homologacion',\n",
        "         'TipoMed','Realizado','Lectura_inicial','Lectura_final',\n",
        "         'Nom_tec','Cliente', 'Fecha_Inspeccion']]\n",
        "df.head(5)"
      ],
      "execution_count": null,
      "outputs": []
    },
    {
      "cell_type": "code",
      "metadata": {
        "id": "ltkZWy3IjE4Y"
      },
      "source": [
        "#Creacion de variables dummy Hi y Hf para operacion de horas\n",
        "df['Hi'] = pd.to_datetime(df['Hora_Inicio'].astype(str),\n",
        "                          infer_datetime_format = True)\n",
        "df['Hf'] = pd.to_datetime(df['Hora_Fin'].astype(str),\n",
        "                          infer_datetime_format = True)\n",
        "#Operacion DeltaH <- DH\n",
        "df['DH'] = df['Hf'] - df['Hi']\n",
        "#Drop de variables Hora_Inicio y fin\n",
        "df = df.drop(['Hora_Inicio','Hora_Fin'], \n",
        "        axis = 1)\n",
        "df.head(5)"
      ],
      "execution_count": null,
      "outputs": []
    },
    {
      "cell_type": "code",
      "metadata": {
        "id": "j80yUkEF7MEj"
      },
      "source": [
        "#Split de fila en columnas con aplicacion lambda\n",
        "df[['M','M1','B']] = df['DH'].astype(str).apply(lambda x: pd.Series(x.split(' ')))\n",
        "#Drop de variables dummies\n",
        "df = df.drop(['Hi','Hf','DH','M','M1'],\n",
        "        axis = 1)\n",
        "#Operacion DeltaL <- DL\n",
        "df['DL'] = df['Lectura_final'] - df['Lectura_inicial']\n",
        "#Drop de variables Lect_Inicial y final\n",
        "df = df.drop(['Lectura_inicial'], axis = 1)\n",
        "df.head(5)"
      ],
      "execution_count": null,
      "outputs": []
    },
    {
      "cell_type": "code",
      "metadata": {
        "id": "59MQB06fjU-N"
      },
      "source": [
        "#Renombre de variable para uniformidad\n",
        "df = df.rename(columns= {'B': 'DH'})\n",
        "df.head(5)"
      ],
      "execution_count": null,
      "outputs": []
    },
    {
      "cell_type": "code",
      "metadata": {
        "id": "LYJtbJ4Lp5NF"
      },
      "source": [
        "#Segmentacion de datos en variables de interes\n",
        "dfi = df[df['TipoMed'] == 'M']\n",
        "dfe = df[df['TipoMed'] == 'E']\n",
        "print(dfi.head(5))\n",
        "print(dfe.head(5))"
      ],
      "execution_count": null,
      "outputs": []
    },
    {
      "cell_type": "code",
      "metadata": {
        "id": "oKDhZ4x_8c2t"
      },
      "source": [
        "dfhom1 = df[df['Homologacion'] != ABB[0]]\n",
        "dfhom2 = df[df['Homologacion'] != ABB[1]]"
      ],
      "execution_count": null,
      "outputs": []
    },
    {
      "cell_type": "code",
      "metadata": {
        "id": "MngUJH9M4VRK"
      },
      "source": [
        "#Grupo de condicion de duracion y consumo en Inductivos\n",
        "dfih = dfi[(dfi['DH'] < condih1) | (dfi['DH'] > condih2)]\n",
        "dfil = dfi[(dfi['DL'] < condil1) | (dfi['DL'] > condil2)]\n",
        "\n",
        "#Grupo de condicion de duracion y consumo en Estaticos\n",
        "dfeh = dfe[(dfe['DH'] < condeh1) | (dfe['DH'] > condeh2)]\n",
        "dfel = dfe[(dfe['DL'] < condel1) | (dfe['DL'] > condel2)]\n",
        "\n",
        "#Grupo de condiciones de homologacion"
      ],
      "execution_count": null,
      "outputs": []
    },
    {
      "cell_type": "code",
      "metadata": {
        "id": "La5Kf_RvBSQ8"
      },
      "source": [
        "#Guardado de archivos en Excel de duracion y consumo en Inductivos\n",
        "dfih.to_excel('DFIH.xls', \n",
        "              sheet_name= 'DFIH', \n",
        "              header= True, \n",
        "              index = False)\n",
        "dfil.to_excel('DFIL.xls', \n",
        "              sheet_name= 'DFIH', \n",
        "              header= True, \n",
        "              index = False)\n",
        "#Guardado de archivos en Excel de duracion y consumo en Estaticos\n",
        "dfeh.to_excel('DFEH.xls',\n",
        "              sheet_name= 'DFEH',\n",
        "              header= True,\n",
        "              index = False)\n",
        "dfel.to_excel('DFEL.xls',\n",
        "              sheet_name= 'DFEH',\n",
        "              header= True,\n",
        "              index = False)"
      ],
      "execution_count": null,
      "outputs": []
    },
    {
      "cell_type": "markdown",
      "metadata": {
        "id": "Yz48no4D0jy6"
      },
      "source": [
        "### **Estadisticos de interes**"
      ]
    },
    {
      "cell_type": "code",
      "metadata": {
        "id": "43HpWNv8zxFr"
      },
      "source": [
        "#Cantidad en % de suministros con medidor INDUCTIVOS observados por tener DURACION de actividad fuera del intervalo permitido\n",
        "print('El porcentaje de suministros observados por duracion en inductivos es:',\n",
        "      round((len(dfi[(dfi['DH'] < condih1) | (dfi['DH'] > condih2)]) / len(dfi)) * 100, 2))\n",
        "\n",
        "#Cantidad en % de suministros con medidor ESTATICOS observados por tener DURACION de actividad fuera del intervalo permitido\n",
        "print('\\n El porcentaje de suministros observados por duracion en estaticos es:',\n",
        "      round((len(dfe[(dfe['DH'] < condeh1) | (dfe['DH'] > condeh2)]) / len(dfe)) * 100, 2))\n",
        "\n",
        "#Cantidad en % de suministros con medidor INDUCTIVOS observados por tener CONSUMO de actividad fuera del intervalo permitido\n",
        "print('\\n El porcentaje de suministros observados por consumo en inductivos es:',\n",
        "      round((len(dfi[(dfi['DL'] < condil1) | (dfi['DL'] > condil2)]) / len(dfi)) * 100, 2))\n",
        "\n",
        "#Cantidad en % de suministros con medidor ESTATICOS observados por tener CONSUMO de actividad fuera del intervalo permitido\n",
        "print('\\n El porcentaje de suministros observados por consumo en estaticos es:',\n",
        "      round((len(dfe[(dfe['DL'] < condel1) | (dfe['DL'] > condel2)]) / len(dfe)) * 100, 2))"
      ],
      "execution_count": null,
      "outputs": []
    }
  ]
}