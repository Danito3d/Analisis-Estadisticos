{
  "nbformat": 4,
  "nbformat_minor": 0,
  "metadata": {
    "colab": {
      "name": "ANOVA_PINZAS.ipynb",
      "provenance": [],
      "toc_visible": true,
      "authorship_tag": "ABX9TyP9zaGXHt5AcZJFmU2ObXBg",
      "include_colab_link": true
    },
    "kernelspec": {
      "name": "python3",
      "display_name": "Python 3"
    }
  },
  "cells": [
    {
      "cell_type": "markdown",
      "metadata": {
        "id": "view-in-github",
        "colab_type": "text"
      },
      "source": [
        "<a href=\"https://colab.research.google.com/github/Danito3d/Analisis-Estadisticos/blob/main/ANOVA_PINZAS.ipynb\" target=\"_parent\"><img src=\"https://colab.research.google.com/assets/colab-badge.svg\" alt=\"Open In Colab\"/></a>"
      ]
    },
    {
      "cell_type": "markdown",
      "metadata": {
        "id": "OkRvz4gVJ8m5"
      },
      "source": [
        "### **El presente notebook, corresponde al codigo usado para la carga, manipulacion y prueba de ANOVA de una sola via (1-way ANOVA), a pinzas PRASEK.**"
      ]
    },
    {
      "cell_type": "markdown",
      "metadata": {
        "id": "kqy5PvlSKOc3"
      },
      "source": [
        "##### **Importe de librerias de trabajo y carga de xls en modulo pandas bajo nombre 'df'.**"
      ]
    },
    {
      "cell_type": "code",
      "metadata": {
        "id": "_HCHciRsKUwd"
      },
      "source": [
        "import pandas as pd\n",
        "import numpy as np\n",
        "import matplotlib.pyplot as plt\n",
        "from scipy.stats import f_oneway as f1"
      ],
      "execution_count": null,
      "outputs": []
    },
    {
      "cell_type": "code",
      "metadata": {
        "id": "yQryaVDgLkKN"
      },
      "source": [
        "df = pd.read_excel('PinzasAmp.xlsx')\n",
        "df.head(n = 5)"
      ],
      "execution_count": null,
      "outputs": []
    },
    {
      "cell_type": "code",
      "metadata": {
        "id": "6jQdOTMtL1hy"
      },
      "source": [
        "oWay = f1(df['P1'], df['P2'], df['P3'], df['P4'], df['P5'], df['P6'], df['P7'])\n",
        "print('El p-valor asociado al estadistico F del test es:',oWay[1])\n",
        "if (oWay[1] > 0.05):\n",
        "  print('\\n Se rechaza hipotesis alternativa')"
      ],
      "execution_count": null,
      "outputs": []
    },
    {
      "cell_type": "markdown",
      "metadata": {
        "id": "0M0Mqmc5QO_F"
      },
      "source": [
        "##### **Evidencia especifica de medias dentro de muestras.**"
      ]
    },
    {
      "cell_type": "code",
      "metadata": {
        "id": "LY4mX9NRQVhi"
      },
      "source": [
        "colS = df.columns\n",
        "xme = []\n",
        "for i in colS:\n",
        "  xmo = np.mean(df[i])\n",
        "  xme.append(xmo)\n",
        "\n",
        "print(xme)"
      ],
      "execution_count": null,
      "outputs": []
    },
    {
      "cell_type": "code",
      "metadata": {
        "id": "lBxRrMrBTg-f"
      },
      "source": [
        "n = np.linspace(1, 7, num = 7)\n",
        "plt.scatter(n, xme)\n",
        "plt.plot(n, [[np.mean(xme)], [np.mean(xme)], [np.mean(xme)], [np.mean(xme)], [np.mean(xme)], [np.mean(xme)], [np.mean(xme)]])\n",
        "plt.title('Dispersion de puntos contra media real', fontdict= {'color': 'white'})\n",
        "plt.xlabel('Pinza', fontdict= {'color': 'white'})\n",
        "plt.ylabel('Valores en Voltios', fontdict= {'color': 'white'})"
      ],
      "execution_count": null,
      "outputs": []
    }
  ]
}